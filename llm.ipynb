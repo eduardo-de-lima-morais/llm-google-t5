{
 "cells": [
  {
   "cell_type": "markdown",
   "metadata": {},
   "source": [
    "**Introdução**\n",
    "\n",
    "Nesse código, será demonstrado como realizar algumas tarefas utilizando LLM e Machine Learning, sendo elas:\n",
    "\n",
    "- Clusterização\n",
    "- Classificação\n",
    "- Sentimentalização"
   ]
  },
  {
   "cell_type": "markdown",
   "metadata": {},
   "source": [
    "**Pacotes**\n",
    "\n",
    "Importação de pacotes necessários."
   ]
  },
  {
   "cell_type": "code",
   "execution_count": 111,
   "metadata": {},
   "outputs": [],
   "source": [
    "#traducao\n",
    "from googletrans import Translator\n",
    "#nlp\n",
    "import spacy\n",
    "from collections import Counter\n",
    "nlp = spacy.load(\"en_core_web_lg\")\n",
    "#tratamento de dados\n",
    "import pandas as pd\n",
    "import numpy as np\n",
    "#LLM\n",
    "from transformers import T5EncoderModel, T5Tokenizer\n",
    "import torch\n",
    "import torch.nn.functional as F\n",
    "from transformers import T5ForConditionalGeneration, T5Tokenizer\n",
    "#Machine Learning\n",
    "from sklearn.model_selection import train_test_split\n",
    "from sklearn.metrics import accuracy_score\n",
    "from sklearn.cluster import KMeans\n",
    "from sklearn.neural_network import MLPClassifier\n"
   ]
  },
  {
   "cell_type": "markdown",
   "metadata": {},
   "source": [
    "**Dados**\n",
    "\n",
    "Criando dados necessários para análises psoteriores."
   ]
  },
  {
   "cell_type": "code",
   "execution_count": 112,
   "metadata": {},
   "outputs": [],
   "source": [
    "#Criando um DataFrame com comentários fictícios sobre crédito e atendimento de banco\n",
    "dados = {\"text\": [\"Não consegui aprovação para o crédito, mesmo com bom histórico de pagamento.\",\n",
    "\"O atendimento online é muito eficiente e rápido.\",\n",
    "\"Consegui um ótimo crédito para financiamento imobiliário, taxas interessantes.\",\n",
    "\"A espera para ser atendido na agência é muito longa, precisa melhorar.\",\n",
    "\"O limite de crédito oferecido não atende às minhas necessidades.\",\n",
    "\"O atendimento via telefone deixou a desejar, muito tempo de espera.\",\n",
    "\"Aprovação do crédito foi surpreendentemente rápida, estou satisfeito.\",\n",
    "\"O aplicativo do banco facilita muito o atendimento, adoro usar.\",\n",
    "\"Recebi uma proposta de crédito muito boa, com condições especiais.\",\n",
    "\"Tive um problema, mas o atendimento presencial resolveu rapidamente.\",\n",
    "\"Meu crédito pessoal foi aprovado com uma taxa de juros baixa, recomendo.\",\n",
    "\"O SAC é muito eficiente, tirou todas as minhas dúvidas rapidamente.\",\n",
    "\"O processo de solicitação de crédito é muito burocrático e lento.\",\n",
    "\"A gentileza dos atendentes sempre me surpreende, muito bom.\",\n",
    "\"Fiquei impressionado com a variedade de opções de crédito disponíveis.\",\n",
    "\"O atendimento no chat online é muito prático, resolveu meu problema.\",\n",
    "\"Consegui aumentar meu limite de crédito facilmente pelo app.\",\n",
    "\"O tempo de espera para atendimento no caixa é inaceitável.\",\n",
    "\"A equipe de crédito foi muito atenciosa, me ajudou a escolher a melhor opção.\",\n",
    "\"O atendimento no call center precisa de mais treinamento, não souberam me ajudar.\",\n",
    "\"A análise de crédito foi mais rápida do que eu esperava, muito eficiente.\",\n",
    "\"Prefiro o atendimento presencial, sempre sou bem atendido.\",\n",
    "\"Meu pedido de crédito foi negado sem muitas explicações.\",\n",
    "\"A experiência de atendimento digital é excelente, muito intuitivo.\",\n",
    "\"O crédito consignado oferecido tem taxas competitivas, estou considerando.\",\n",
    "\"Sempre sou atendido rapidamente quando vou à agência.\",\n",
    "\"A linha de crédito para empresas do banco é muito boa, ajudou minha empresa a crescer.\",\n",
    "\"O atendimento por videoconferência é uma ótima opção, muito conveniente.\",\n",
    "\"Fui surpreendido com uma oferta de crédito pré-aprovado, muito bom.\",\n",
    "\"O processo de abertura de conta e atendimento inicial foi muito ágil e sem complicações.\"],\n",
    "\n",
    "\"label\": [\"crédito\", \"atendimento\", \"crédito\", \"atendimento\", \"crédito\", \"atendimento\",\n",
    "\"crédito\", \"atendimento\", \"crédito\", \"atendimento\", \"crédito\", \"atendimento\",\"crédito\", \n",
    "\"atendimento\", \"crédito\", \"atendimento\", \"crédito\", \"atendimento\",\"crédito\", \"atendimento\",\n",
    " \"crédito\", \"atendimento\", \"crédito\", \"atendimento\",\"crédito\", \"atendimento\", \"crédito\",\n",
    "   \"atendimento\", \"crédito\", \"atendimento\"]\n",
    "}\n",
    "\n",
    "#Convertendo o dicionário em DataFrame\n",
    "df_avaliacoes = pd.DataFrame(dados)"
   ]
  },
  {
   "cell_type": "markdown",
   "metadata": {},
   "source": [
    "**Tradução**\n",
    "\n",
    "Tradução do português para o inglês, para otimizar performance do LLM."
   ]
  },
  {
   "cell_type": "code",
   "execution_count": 113,
   "metadata": {},
   "outputs": [],
   "source": [
    "#criar funcao para traducao\n",
    "def tradutor(texto):\n",
    "  translator = Translator() \n",
    "  texto_final = translator.translate(texto, dest=str(\"en\"),src=str(\"pt\")).text\n",
    "\n",
    "  return texto_final"
   ]
  },
  {
   "cell_type": "code",
   "execution_count": 114,
   "metadata": {},
   "outputs": [
    {
     "data": {
      "text/html": [
       "<div>\n",
       "<style scoped>\n",
       "    .dataframe tbody tr th:only-of-type {\n",
       "        vertical-align: middle;\n",
       "    }\n",
       "\n",
       "    .dataframe tbody tr th {\n",
       "        vertical-align: top;\n",
       "    }\n",
       "\n",
       "    .dataframe thead th {\n",
       "        text-align: right;\n",
       "    }\n",
       "</style>\n",
       "<table border=\"1\" class=\"dataframe\">\n",
       "  <thead>\n",
       "    <tr style=\"text-align: right;\">\n",
       "      <th></th>\n",
       "      <th>text</th>\n",
       "      <th>label</th>\n",
       "      <th>text_en</th>\n",
       "    </tr>\n",
       "  </thead>\n",
       "  <tbody>\n",
       "    <tr>\n",
       "      <th>0</th>\n",
       "      <td>Não consegui aprovação para o crédito, mesmo c...</td>\n",
       "      <td>crédito</td>\n",
       "      <td>I was unable to get approved for credit, even ...</td>\n",
       "    </tr>\n",
       "    <tr>\n",
       "      <th>1</th>\n",
       "      <td>O atendimento online é muito eficiente e rápido.</td>\n",
       "      <td>atendimento</td>\n",
       "      <td>The online service is very efficient and fast.</td>\n",
       "    </tr>\n",
       "    <tr>\n",
       "      <th>2</th>\n",
       "      <td>Consegui um ótimo crédito para financiamento i...</td>\n",
       "      <td>crédito</td>\n",
       "      <td>I got great credit for real estate financing, ...</td>\n",
       "    </tr>\n",
       "    <tr>\n",
       "      <th>3</th>\n",
       "      <td>A espera para ser atendido na agência é muito ...</td>\n",
       "      <td>atendimento</td>\n",
       "      <td>The wait to be seen at the agency is very long...</td>\n",
       "    </tr>\n",
       "    <tr>\n",
       "      <th>4</th>\n",
       "      <td>O limite de crédito oferecido não atende às mi...</td>\n",
       "      <td>crédito</td>\n",
       "      <td>The credit limit offered does not meet my needs.</td>\n",
       "    </tr>\n",
       "  </tbody>\n",
       "</table>\n",
       "</div>"
      ],
      "text/plain": [
       "                                                text        label  \\\n",
       "0  Não consegui aprovação para o crédito, mesmo c...      crédito   \n",
       "1   O atendimento online é muito eficiente e rápido.  atendimento   \n",
       "2  Consegui um ótimo crédito para financiamento i...      crédito   \n",
       "3  A espera para ser atendido na agência é muito ...  atendimento   \n",
       "4  O limite de crédito oferecido não atende às mi...      crédito   \n",
       "\n",
       "                                             text_en  \n",
       "0  I was unable to get approved for credit, even ...  \n",
       "1     The online service is very efficient and fast.  \n",
       "2  I got great credit for real estate financing, ...  \n",
       "3  The wait to be seen at the agency is very long...  \n",
       "4   The credit limit offered does not meet my needs.  "
      ]
     },
     "execution_count": 114,
     "metadata": {},
     "output_type": "execute_result"
    }
   ],
   "source": [
    "#aplicando traducao\n",
    "df_avaliacoes['text_en'] = df_avaliacoes['text'].apply(tradutor)\n",
    "df_avaliacoes.head(5)"
   ]
  },
  {
   "cell_type": "markdown",
   "metadata": {},
   "source": [
    "**Pré-processamento**"
   ]
  },
  {
   "cell_type": "code",
   "execution_count": 115,
   "metadata": {},
   "outputs": [],
   "source": [
    "#lematizar palavras\n",
    "def lematiza(text):\n",
    "  doc = nlp(text.lower())\n",
    "  tokens_alpha = [token.lemma_ for token in doc if token.is_alpha]\n",
    "  return \" \".join(tokens_alpha)\n",
    "\n",
    "#lematizar aplicando funcao ja definida\n",
    "df_avaliacoes['text_clean'] = df_avaliacoes['text_en'].map(lambda x : lematiza(x))\n",
    "\n",
    "#Converter a lista de textos em uma única string para processamento de frequência\n",
    "all_texts = ' '.join(df_avaliacoes['text_clean'].tolist())\n",
    "#Processamento de frequência das palavras\n",
    "word_frequencies = Counter(all_texts.split())\n",
    "#Calcular a porcentagem de frequência de cada palavra\n",
    "total_documents = len(df_avaliacoes)\n",
    "word_percentages = {word: freq / total_documents for word, freq in word_frequencies.items()}\n",
    "#Filtrar palavras que aparecem mais de 50% das vezes ou menos que 10%\n",
    "filtered_words = [word for word, percentage in word_percentages.items() if percentage > 0.50 or percentage < 0.10]\n",
    "# Remover palavras filtradas dos documentos\n",
    "df_avaliacoes['text_clean'] = df_avaliacoes['text_clean'].apply(lambda texto: ' '.join([word for word in texto.split() if word not in filtered_words]))"
   ]
  },
  {
   "cell_type": "code",
   "execution_count": 116,
   "metadata": {},
   "outputs": [
    {
     "name": "stderr",
     "output_type": "stream",
     "text": [
      "Special tokens have been added in the vocabulary, make sure the associated word embeddings are fine-tuned or trained.\n"
     ]
    }
   ],
   "source": [
    "#modelos\n",
    "tokenizer = T5Tokenizer.from_pretrained(\"t5-small\")\n",
    "encoderT5 = T5EncoderModel.from_pretrained('t5-small')\n",
    "modelGen = T5ForConditionalGeneration.from_pretrained(\"t5-small\")\n"
   ]
  },
  {
   "cell_type": "markdown",
   "metadata": {},
   "source": [
    "**Clusterização**"
   ]
  },
  {
   "cell_type": "code",
   "execution_count": 125,
   "metadata": {},
   "outputs": [
    {
     "name": "stderr",
     "output_type": "stream",
     "text": [
      "C:\\Users\\eduar\\AppData\\Local\\Temp\\ipykernel_15100\\1469992798.py:7: SettingWithCopyWarning: \n",
      "A value is trying to be set on a copy of a slice from a DataFrame.\n",
      "Try using .loc[row_indexer,col_indexer] = value instead\n",
      "\n",
      "See the caveats in the documentation: https://pandas.pydata.org/pandas-docs/stable/user_guide/indexing.html#returning-a-view-versus-a-copy\n",
      "  df_cluster['embedding'] = df_avaliacoes['text_clean'].apply(gerar_embedding)\n"
     ]
    }
   ],
   "source": [
    "def gerar_embedding(texto):\n",
    "    inputs = tokenizer(texto, return_tensors=\"pt\", padding=True, truncation=True, max_length=512)\n",
    "    outputs = encoderT5(**inputs)\n",
    "    return outputs.last_hidden_state.mean(dim=1).detach().numpy()\n",
    "\n",
    "df_cluster = df_avaliacoes[['text_clean','label']]\n",
    "df_cluster['embedding'] = df_avaliacoes['text_clean'].apply(gerar_embedding)"
   ]
  },
  {
   "cell_type": "code",
   "execution_count": 146,
   "metadata": {},
   "outputs": [
    {
     "name": "stderr",
     "output_type": "stream",
     "text": [
      "c:\\Users\\eduar\\anaconda3\\lib\\site-packages\\sklearn\\cluster\\_kmeans.py:1416: FutureWarning: The default value of `n_init` will change from 10 to 'auto' in 1.4. Set the value of `n_init` explicitly to suppress the warning\n",
      "  super()._check_params_vs_input(X, default_n_init=10)\n",
      "c:\\Users\\eduar\\anaconda3\\lib\\site-packages\\sklearn\\cluster\\_kmeans.py:1440: UserWarning: KMeans is known to have a memory leak on Windows with MKL, when there are less chunks than available threads. You can avoid it by setting the environment variable OMP_NUM_THREADS=1.\n",
      "  warnings.warn(\n"
     ]
    },
    {
     "data": {
      "text/html": [
       "<div>\n",
       "<style scoped>\n",
       "    .dataframe tbody tr th:only-of-type {\n",
       "        vertical-align: middle;\n",
       "    }\n",
       "\n",
       "    .dataframe tbody tr th {\n",
       "        vertical-align: top;\n",
       "    }\n",
       "\n",
       "    .dataframe thead th {\n",
       "        text-align: right;\n",
       "    }\n",
       "</style>\n",
       "<table border=\"1\" class=\"dataframe\">\n",
       "  <thead>\n",
       "    <tr style=\"text-align: right;\">\n",
       "      <th>cluster</th>\n",
       "      <th>0</th>\n",
       "      <th>1</th>\n",
       "    </tr>\n",
       "    <tr>\n",
       "      <th>label</th>\n",
       "      <th></th>\n",
       "      <th></th>\n",
       "    </tr>\n",
       "  </thead>\n",
       "  <tbody>\n",
       "    <tr>\n",
       "      <th>atendimento</th>\n",
       "      <td>0</td>\n",
       "      <td>15</td>\n",
       "    </tr>\n",
       "    <tr>\n",
       "      <th>crédito</th>\n",
       "      <td>15</td>\n",
       "      <td>0</td>\n",
       "    </tr>\n",
       "  </tbody>\n",
       "</table>\n",
       "</div>"
      ],
      "text/plain": [
       "cluster       0   1\n",
       "label              \n",
       "atendimento   0  15\n",
       "crédito      15   0"
      ]
     },
     "execution_count": 146,
     "metadata": {},
     "output_type": "execute_result"
    }
   ],
   "source": [
    "embeddings = list(df_cluster['embedding'])\n",
    "embeddings_array = np.array(embeddings).squeeze() \n",
    "#Aplicando K-means\n",
    "kmeans = KMeans(n_clusters=2).fit(embeddings_array)\n",
    "#Os rótulos dos clusters para cada ponto de dado (comentário)\n",
    "df_cluster['cluster'] = kmeans.labels_\n",
    "#resultados\n",
    "agrupamento = df_cluster.groupby(['label', 'cluster']).size().unstack(fill_value=0)\n",
    "agrupamento"
   ]
  },
  {
   "cell_type": "markdown",
   "metadata": {},
   "source": [
    "**Classificação binária**"
   ]
  },
  {
   "cell_type": "code",
   "execution_count": 121,
   "metadata": {},
   "outputs": [
    {
     "name": "stderr",
     "output_type": "stream",
     "text": [
      "C:\\Users\\eduar\\AppData\\Local\\Temp\\ipykernel_15100\\1748586751.py:11: SettingWithCopyWarning: \n",
      "A value is trying to be set on a copy of a slice from a DataFrame.\n",
      "Try using .loc[row_indexer,col_indexer] = value instead\n",
      "\n",
      "See the caveats in the documentation: https://pandas.pydata.org/pandas-docs/stable/user_guide/indexing.html#returning-a-view-versus-a-copy\n",
      "  df['embeddings'] = get_t5_embeddings(df['text_clean'].tolist())\n"
     ]
    }
   ],
   "source": [
    "def get_t5_embeddings(texts):\n",
    "    embeddings = []\n",
    "    for text in texts:\n",
    "        input_ids = tokenizer(text, return_tensors=\"pt\", padding=True)[\"input_ids\"]\n",
    "        with torch.no_grad():\n",
    "            outputs = encoderT5(input_ids=input_ids)\n",
    "        embeddings.append(outputs.last_hidden_state[:, 0, :].squeeze().numpy())\n",
    "    return embeddings\n",
    "\n",
    "#Obter embeddings para os textos\n",
    "df_class = df_avaliacoes[['text_clean','label']]\n",
    "df_class['embeddings'] = get_t5_embeddings(df_class['text_clean'].tolist())"
   ]
  },
  {
   "cell_type": "code",
   "execution_count": 152,
   "metadata": {},
   "outputs": [
    {
     "name": "stdout",
     "output_type": "stream",
     "text": [
      "Acurácia: 1.0000\n"
     ]
    }
   ],
   "source": [
    "# Preparar os dados\n",
    "X = np.array(df['embeddings'].tolist())\n",
    "y = df['label'].factorize()[0]  # Convertendo rótulos em valores numéricos\n",
    "\n",
    "#Dividindo treino e teste\n",
    "X_train, X_test, y_train, y_test = train_test_split(X, y, test_size=0.2)\n",
    "\n",
    "#model\n",
    "model = MLPClassifier()\n",
    "model.fit(X_train, y_train)\n",
    "\n",
    "#avaliacao\n",
    "predictions = model.predict(X_test)\n",
    "accuracia = accuracy_score(y_test, predictions)\n",
    "print(f\"Acurácia: {accuracia:.4f}\")"
   ]
  },
  {
   "cell_type": "markdown",
   "metadata": {},
   "source": [
    "**Sentiment**"
   ]
  },
  {
   "cell_type": "code",
   "execution_count": 123,
   "metadata": {},
   "outputs": [],
   "source": [
    "#https://discuss.huggingface.co/t/t5-classification-using-text2text/504/8"
   ]
  },
  {
   "cell_type": "code",
   "execution_count": 153,
   "metadata": {},
   "outputs": [
    {
     "name": "stderr",
     "output_type": "stream",
     "text": [
      "C:\\Users\\eduar\\AppData\\Local\\Temp\\ipykernel_15100\\3895147539.py:16: SettingWithCopyWarning: \n",
      "A value is trying to be set on a copy of a slice from a DataFrame.\n",
      "Try using .loc[row_indexer,col_indexer] = value instead\n",
      "\n",
      "See the caveats in the documentation: https://pandas.pydata.org/pandas-docs/stable/user_guide/indexing.html#returning-a-view-versus-a-copy\n",
      "  df_sentimentos['sentiment'] = df_sentimentos['text_en'].apply(Sentimentos)\n"
     ]
    },
    {
     "data": {
      "text/html": [
       "<div>\n",
       "<style scoped>\n",
       "    .dataframe tbody tr th:only-of-type {\n",
       "        vertical-align: middle;\n",
       "    }\n",
       "\n",
       "    .dataframe tbody tr th {\n",
       "        vertical-align: top;\n",
       "    }\n",
       "\n",
       "    .dataframe thead th {\n",
       "        text-align: right;\n",
       "    }\n",
       "</style>\n",
       "<table border=\"1\" class=\"dataframe\">\n",
       "  <thead>\n",
       "    <tr style=\"text-align: right;\">\n",
       "      <th></th>\n",
       "      <th>text</th>\n",
       "      <th>text_en</th>\n",
       "      <th>sentiment</th>\n",
       "    </tr>\n",
       "  </thead>\n",
       "  <tbody>\n",
       "    <tr>\n",
       "      <th>0</th>\n",
       "      <td>Não consegui aprovação para o crédito, mesmo c...</td>\n",
       "      <td>I was unable to get approved for credit, even ...</td>\n",
       "      <td>Negativo</td>\n",
       "    </tr>\n",
       "    <tr>\n",
       "      <th>1</th>\n",
       "      <td>O atendimento online é muito eficiente e rápido.</td>\n",
       "      <td>The online service is very efficient and fast.</td>\n",
       "      <td>Positivo</td>\n",
       "    </tr>\n",
       "    <tr>\n",
       "      <th>2</th>\n",
       "      <td>Consegui um ótimo crédito para financiamento i...</td>\n",
       "      <td>I got great credit for real estate financing, ...</td>\n",
       "      <td>Positivo</td>\n",
       "    </tr>\n",
       "    <tr>\n",
       "      <th>3</th>\n",
       "      <td>A espera para ser atendido na agência é muito ...</td>\n",
       "      <td>The wait to be seen at the agency is very long...</td>\n",
       "      <td>Negativo</td>\n",
       "    </tr>\n",
       "    <tr>\n",
       "      <th>4</th>\n",
       "      <td>O limite de crédito oferecido não atende às mi...</td>\n",
       "      <td>The credit limit offered does not meet my needs.</td>\n",
       "      <td>Negativo</td>\n",
       "    </tr>\n",
       "    <tr>\n",
       "      <th>5</th>\n",
       "      <td>O atendimento via telefone deixou a desejar, m...</td>\n",
       "      <td>The telephone service left something to be des...</td>\n",
       "      <td>Negativo</td>\n",
       "    </tr>\n",
       "    <tr>\n",
       "      <th>6</th>\n",
       "      <td>Aprovação do crédito foi surpreendentemente rá...</td>\n",
       "      <td>Credit approval was surprisingly quick, I am s...</td>\n",
       "      <td>Positivo</td>\n",
       "    </tr>\n",
       "    <tr>\n",
       "      <th>7</th>\n",
       "      <td>O aplicativo do banco facilita muito o atendim...</td>\n",
       "      <td>The bank's app makes service a lot easier, I l...</td>\n",
       "      <td>Positivo</td>\n",
       "    </tr>\n",
       "    <tr>\n",
       "      <th>8</th>\n",
       "      <td>Recebi uma proposta de crédito muito boa, com ...</td>\n",
       "      <td>I received a very good credit offer, with spec...</td>\n",
       "      <td>Positivo</td>\n",
       "    </tr>\n",
       "    <tr>\n",
       "      <th>9</th>\n",
       "      <td>Tive um problema, mas o atendimento presencial...</td>\n",
       "      <td>I had a problem, but the in-person service res...</td>\n",
       "      <td>Neutro</td>\n",
       "    </tr>\n",
       "  </tbody>\n",
       "</table>\n",
       "</div>"
      ],
      "text/plain": [
       "                                                text  \\\n",
       "0  Não consegui aprovação para o crédito, mesmo c...   \n",
       "1   O atendimento online é muito eficiente e rápido.   \n",
       "2  Consegui um ótimo crédito para financiamento i...   \n",
       "3  A espera para ser atendido na agência é muito ...   \n",
       "4  O limite de crédito oferecido não atende às mi...   \n",
       "5  O atendimento via telefone deixou a desejar, m...   \n",
       "6  Aprovação do crédito foi surpreendentemente rá...   \n",
       "7  O aplicativo do banco facilita muito o atendim...   \n",
       "8  Recebi uma proposta de crédito muito boa, com ...   \n",
       "9  Tive um problema, mas o atendimento presencial...   \n",
       "\n",
       "                                             text_en sentiment  \n",
       "0  I was unable to get approved for credit, even ...  Negativo  \n",
       "1     The online service is very efficient and fast.  Positivo  \n",
       "2  I got great credit for real estate financing, ...  Positivo  \n",
       "3  The wait to be seen at the agency is very long...  Negativo  \n",
       "4   The credit limit offered does not meet my needs.  Negativo  \n",
       "5  The telephone service left something to be des...  Negativo  \n",
       "6  Credit approval was surprisingly quick, I am s...  Positivo  \n",
       "7  The bank's app makes service a lot easier, I l...  Positivo  \n",
       "8  I received a very good credit offer, with spec...  Positivo  \n",
       "9  I had a problem, but the in-person service res...    Neutro  "
      ]
     },
     "execution_count": 153,
     "metadata": {},
     "output_type": "execute_result"
    }
   ],
   "source": [
    "def Sentimentos(text):\n",
    "  with torch.no_grad():\n",
    "    #modelo\n",
    "    enc = tokenizer(\"sst2 sentence: \"+text, return_tensors=\"pt\")\n",
    "    decoder_input_ids = torch.tensor([tokenizer.pad_token_id]).unsqueeze(0) \n",
    "    logits = modelGen(**enc, decoder_input_ids=decoder_input_ids)[0]\n",
    "    logits = logits.squeeze(1)\n",
    "    select_logits = logits[:, [1465, 2841]] \n",
    "    #prob\n",
    "    probs_positive = F.softmax(select_logits, dim=1)[:, 0]\n",
    "    sentimento = lambda x: \"Positivo\" if x > 0.8 else (\"Negativo\" if x < 0.2 else \"Neutro\")\n",
    "    \n",
    "  return sentimento(probs_positive.item())\n",
    "\n",
    "df_sentimentos = df_avaliacoes[['text','text_en']]\n",
    "df_sentimentos['sentiment'] = df_sentimentos['text_en'].apply(Sentimentos)\n",
    "df_sentimentos.head(10)"
   ]
  }
 ],
 "metadata": {
  "kernelspec": {
   "display_name": "Python 3",
   "language": "python",
   "name": "python3"
  },
  "language_info": {
   "codemirror_mode": {
    "name": "ipython",
    "version": 3
   },
   "file_extension": ".py",
   "mimetype": "text/x-python",
   "name": "python",
   "nbconvert_exporter": "python",
   "pygments_lexer": "ipython3",
   "version": "3.9.7"
  }
 },
 "nbformat": 4,
 "nbformat_minor": 2
}
